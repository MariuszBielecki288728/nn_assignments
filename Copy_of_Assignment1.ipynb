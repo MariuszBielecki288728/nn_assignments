{
  "nbformat": 4,
  "nbformat_minor": 0,
  "metadata": {
    "colab": {
      "name": "Copy of Assignment1.ipynb",
      "version": "0.3.2",
      "provenance": [],
      "collapsed_sections": [],
      "include_colab_link": true
    },
    "kernelspec": {
      "name": "python2",
      "display_name": "Python 2"
    }
  },
  "cells": [
    {
      "cell_type": "markdown",
      "metadata": {
        "id": "view-in-github",
        "colab_type": "text"
      },
      "source": [
        "[View in Colaboratory](https://colab.research.google.com/github/MariuszBielecki288728/nn_assignments/blob/nn18/Copy_of_Assignment1.ipynb)"
      ]
    },
    {
      "metadata": {
        "id": "P7IFJ5_Y33-8",
        "colab_type": "text"
      },
      "cell_type": "markdown",
      "source": [
        "# Assignment 1\n"
      ]
    },
    {
      "metadata": {
        "id": "goqGXGZT2DKK",
        "colab_type": "text"
      },
      "cell_type": "markdown",
      "source": [
        "## Important notes"
      ]
    },
    {
      "metadata": {
        "id": "-3FKET1A2GRK",
        "colab_type": "text"
      },
      "cell_type": "markdown",
      "source": [
        "**Submission deadline:**\n",
        "* **Problems 1-4: last lab session before or on Friday, 19.10.18**\n",
        "* **Problems 5-6: last lab session before or on Friday, 26.10.18**\n",
        "\n",
        "**Points: 10 + 4 bonus points**\n",
        "\n",
        "Please note: some of the assignments are tedious or boring if you are already a NumPy ninja. The bonus problems were designed to give you a more satisfying alternative.\n",
        "\n",
        "The assignment is in the form of a Jupyter notebook. We will be using [Google Colab](https://colab.research.google.com) to solve it. Below you will find a \"Setup\" section. Follow instructions from this paragraph to download the notebook and open it using [Google Colab](https://colab.research.google.com). \n",
        "\n",
        "Your goal is to solve problems posted below. Whenever possible, add your solutions to the notebook.\n",
        "\n",
        "Please email us about any problems with it - we will try to correct them quickly. Also, please do not hesitate to use GitHub’s pull requests to send us corrections!"
      ]
    },
    {
      "metadata": {
        "id": "1CMDOrsc2K-K",
        "colab_type": "text"
      },
      "cell_type": "markdown",
      "source": [
        "## Setup"
      ]
    },
    {
      "metadata": {
        "id": "tNjavUUC7yuM",
        "colab_type": "text"
      },
      "cell_type": "markdown",
      "source": [
        "### 1. Open the notebook using Google Colab\n",
        "\n",
        "1. From Github: Click on \"View in Colaboratory\", then save to your Google Drive.\n",
        "2. Alternatively upload manually to Drive:\n",
        "  1. Download the notebook or clone https://github.com/janchorowski/nn_assignments.\n",
        "  2. Go to  [Google Colab](https://colab.research.google.com).\n",
        "  3. Go to \"UPLOAD\" tab and select a local copy of the notebook that you downloaded in point 1.\n",
        "  \n",
        "Colab Tips:\n",
        "1. Set tab width to 4 spaces under `Tools -> Prferences`.\n",
        "  \n",
        "### 2. Open th enotebook offline using Jupyter/IPython\n",
        "\n",
        "This notebook can be opened using Jupyter notebook. Simply install a scientific Python distribution on your computer (e.g. [Anaconda](https://www.anaconda.com/) or [WinPython](http://winpython.github.io/)), clone the repository https://github.com/janchorowski/nn_assignments and run `jupyter notebook`."
      ]
    },
    {
      "metadata": {
        "id": "zq_ZRu87C_OC",
        "colab_type": "text"
      },
      "cell_type": "markdown",
      "source": [
        "###   3. Install required dependencies, download data and import packages\n",
        "\n",
        "Run cells below. To run a cell either click it and click a run button or press \"shift + enter\"\n"
      ]
    },
    {
      "metadata": {
        "id": "onui8xrw5dKi",
        "colab_type": "code",
        "colab": {}
      },
      "cell_type": "code",
      "source": [
        "# Please note that this code needs only to be run in a fresh runtime.\n",
        "# However, it can be rerun afterwards too.\n",
        "!pip install -q gdown httpimport\n",
        "![ -e cifar.npz ] || gdown 'https://drive.google.com/uc?id=1oBzZdtg2zNTPGhbRy6DQ_wrf5L5OAhNR' -O cifar.npz\n",
        "![ -e mnist.npz ] || gdown 'https://drive.google.com/uc?id=1QPaC3IKB_5tX6yIZgRgkpcqFrfVqPTXU' -O mnist.npz"
      ],
      "execution_count": 0,
      "outputs": []
    },
    {
      "metadata": {
        "id": "YxzWq6iO2KPm",
        "colab_type": "code",
        "colab": {}
      },
      "cell_type": "code",
      "source": [
        "# Standard IPython notebook imports\n",
        "%matplotlib inline\n",
        "\n",
        "from __future__ import absolute_import\n",
        "from __future__ import division\n",
        "from __future__ import print_function\n",
        "\n",
        "import os\n",
        "\n",
        "import httpimport\n",
        "import matplotlib.pyplot as plt\n",
        "import numpy as np\n",
        "\n",
        "import seaborn as sns\n",
        "from sklearn import datasets\n",
        "\n",
        "# In this way we can import functions straight from github\n",
        "with httpimport.github_repo('janchorowski', 'nn_assignments', \n",
        "                            module='common', branch='nn18'):\n",
        "     from common.plotting import plot_mat\n",
        "\n",
        "sns.set_style('whitegrid')"
      ],
      "execution_count": 0,
      "outputs": []
    },
    {
      "metadata": {
        "id": "AfmjDoxi6JNA",
        "colab_type": "text"
      },
      "cell_type": "markdown",
      "source": [
        "### 4. Follow the notebook and solve problems posted below"
      ]
    },
    {
      "metadata": {
        "id": "3hr81V8T8ccB",
        "colab_type": "text"
      },
      "cell_type": "markdown",
      "source": [
        "## Problems"
      ]
    },
    {
      "metadata": {
        "id": "0eT1x_VG33_E",
        "colab_type": "text"
      },
      "cell_type": "markdown",
      "source": [
        "### Problem 0 [0p]\n",
        "\n",
        " \n",
        "1. To learn more about Jupyter,  read [Jupyter tutorial from Data Analysis in Biological Sciences course at Caltech](http://bebi103.caltech.edu/2015/tutorials/t0b_intro_to_jupyter_notebooks.html) (which itself can be downloaded as a Jupyter notebook). Feel free to skip the tutorial if you have some prior experience with Jupyter notebook.\n",
        "2. To learn more about basic Google Colab features, go to [Google Colab](https://colab.research.google.com) and select \"Overview of Colaboratory Features\" in \"EXAMPLES\" tab. To learn more about / set up useful keyboard shortcuts (e.g. to add a new cell without clicking \"\"+ code\"), go to \"Tools --> Keyboard shortcuts\""
      ]
    },
    {
      "metadata": {
        "id": "AsOC0voR33_F",
        "colab_type": "text"
      },
      "cell_type": "markdown",
      "source": [
        "### Problem 1 [2p]\n",
        "\n",
        "First, get familiar with Python at https://docs.python.org/2/tutorial/. Then, get\n",
        "to know the capabilities of NumPy, the prime numerical library of Python http://www.numpy.org/, for instance with the tutorial at http://wiki.scipy.org/Tentative_NumPy_Tutorial.\n",
        "\n",
        "You might also need:\n",
        "  1. another intro to NumPy,\n",
        "http://people.duke.edu/~ccc14/pcfb/numerics.html\n",
        "  2. a better interactive shell for Python,\n",
        "http://ipython.org/\n",
        "  3. access to IPython through an ordinary web browser,\n",
        "http://ipython.org/notebook.html\n",
        "  4. a plotting library for Python.\n",
        "http://matplotlib.org/\n",
        "\n",
        "**a) Declare variables:**\n",
        "1. $a=10$,\n",
        "2. $b=2.5\\times 10^{23}$,\n",
        "3. $c=2+3i$, where $i$ is an imaginary unit,\n",
        "4. $d=e^{i2\\pi/3}$, where $i$ is an imaginary unit, $e$ is the Euler's number (use `exp`, `pi`)."
      ]
    },
    {
      "metadata": {
        "id": "8sd7jJhd33_G",
        "colab_type": "code",
        "colab": {
          "base_uri": "https://localhost:8080/",
          "height": 88
        },
        "outputId": "e8f70100-5e28-462c-f250-42ef5d9574de"
      },
      "cell_type": "code",
      "source": [
        "# TODO: Complete the declarations\n",
        "from math import e, pi\n",
        "a = 10\n",
        "b = 2.5 + 10**23\n",
        "c = 2 + 3j\n",
        "d = e ** (2j*pi/3)\n",
        "\n",
        "print(a, b, c, d, sep=\"\\n\")"
      ],
      "execution_count": 46,
      "outputs": [
        {
          "output_type": "stream",
          "text": [
            "10\n",
            "1e+23\n",
            "(2+3j)\n",
            "(-0.5+0.866025403784j)\n"
          ],
          "name": "stdout"
        }
      ]
    },
    {
      "metadata": {
        "id": "bP0hAHvN33_K",
        "colab_type": "text"
      },
      "cell_type": "markdown",
      "source": [
        "**b) Declare vectors:**\n",
        "1. $aVec=\\begin{bmatrix} 3.14 & 15 & 9 & 26 \\end{bmatrix}$,\n",
        "2. $bVec=\\begin{bmatrix} 2.71 & 8 & 28 & 182 \\end{bmatrix}^\\intercal$ (column vector),\n",
        "3. $cVec=\\begin{bmatrix} 5 & 4.8 & \\cdots & -4.8 & -5 \\end{bmatrix}$ (vector of numbers from $5$ to $-5$ decreasing by $0.2$),\n",
        "4. $dVec=\\begin{bmatrix} 10^0 & 10^{0.01} & \\cdots & 10^{0.99} & 10^1 \\end{bmatrix}$ (logarithmically spaced numbers from 1 to 10, use `logspace` and make sure, that the result has correct length!),\n",
        "5. $eVec=Hello$ ($eVec$ is a string of characters, thus a vector)."
      ]
    },
    {
      "metadata": {
        "id": "37RmkuW533_L",
        "colab_type": "code",
        "colab": {
          "base_uri": "https://localhost:8080/",
          "height": 732
        },
        "outputId": "65ad8328-bb2c-4ee0-93bc-07f4099555f8"
      },
      "cell_type": "code",
      "source": [
        "aVec = np.array([[3.14, 15, 9, 26]])\n",
        "bVec = np.transpose(np.array([[2.71, 8, 28, 182]]))\n",
        "cVec = np.arange(5., -5.1, -0.2)\n",
        "dVec = np.logspace(0., 1., num=101, base=10)\n",
        "eVec = np.array(\"Hello\")\n",
        "\n",
        "print(aVec, bVec, cVec, dVec, eVec, sep=\"\\n\\n\")"
      ],
      "execution_count": 81,
      "outputs": [
        {
          "output_type": "stream",
          "text": [
            "[[ 3.14 15.    9.   26.  ]]\n",
            "\n",
            "[[  2.71]\n",
            " [  8.  ]\n",
            " [ 28.  ]\n",
            " [182.  ]]\n",
            "\n",
            "[ 5.0000000e+00  4.8000000e+00  4.6000000e+00  4.4000000e+00\n",
            "  4.2000000e+00  4.0000000e+00  3.8000000e+00  3.6000000e+00\n",
            "  3.4000000e+00  3.2000000e+00  3.0000000e+00  2.8000000e+00\n",
            "  2.6000000e+00  2.4000000e+00  2.2000000e+00  2.0000000e+00\n",
            "  1.8000000e+00  1.6000000e+00  1.4000000e+00  1.2000000e+00\n",
            "  1.0000000e+00  8.0000000e-01  6.0000000e-01  4.0000000e-01\n",
            "  2.0000000e-01 -4.4408921e-15 -2.0000000e-01 -4.0000000e-01\n",
            " -6.0000000e-01 -8.0000000e-01 -1.0000000e+00 -1.2000000e+00\n",
            " -1.4000000e+00 -1.6000000e+00 -1.8000000e+00 -2.0000000e+00\n",
            " -2.2000000e+00 -2.4000000e+00 -2.6000000e+00 -2.8000000e+00\n",
            " -3.0000000e+00 -3.2000000e+00 -3.4000000e+00 -3.6000000e+00\n",
            " -3.8000000e+00 -4.0000000e+00 -4.2000000e+00 -4.4000000e+00\n",
            " -4.6000000e+00 -4.8000000e+00 -5.0000000e+00]\n",
            "\n",
            "[ 1.          1.02329299  1.04712855  1.07151931  1.0964782   1.12201845\n",
            "  1.14815362  1.17489755  1.20226443  1.23026877  1.25892541  1.28824955\n",
            "  1.31825674  1.34896288  1.38038426  1.41253754  1.44543977  1.47910839\n",
            "  1.51356125  1.54881662  1.58489319  1.6218101   1.65958691  1.69824365\n",
            "  1.73780083  1.77827941  1.81970086  1.86208714  1.90546072  1.9498446\n",
            "  1.99526231  2.04173794  2.08929613  2.13796209  2.18776162  2.23872114\n",
            "  2.29086765  2.34422882  2.39883292  2.45470892  2.51188643  2.57039578\n",
            "  2.63026799  2.6915348   2.7542287   2.81838293  2.8840315   2.95120923\n",
            "  3.01995172  3.09029543  3.16227766  3.23593657  3.31131121  3.38844156\n",
            "  3.4673685   3.54813389  3.63078055  3.71535229  3.80189396  3.89045145\n",
            "  3.98107171  4.07380278  4.16869383  4.26579519  4.36515832  4.46683592\n",
            "  4.5708819   4.67735141  4.78630092  4.89778819  5.01187234  5.12861384\n",
            "  5.2480746   5.37031796  5.49540874  5.62341325  5.75439937  5.88843655\n",
            "  6.02559586  6.16595002  6.30957344  6.45654229  6.60693448  6.76082975\n",
            "  6.91830971  7.07945784  7.2443596   7.41310241  7.58577575  7.76247117\n",
            "  7.94328235  8.12830516  8.31763771  8.51138038  8.7096359   8.91250938\n",
            "  9.12010839  9.33254301  9.54992586  9.77237221 10.        ]\n",
            "\n",
            "Hello\n"
          ],
          "name": "stdout"
        }
      ]
    },
    {
      "metadata": {
        "id": "C58YJtEU33_O",
        "colab_type": "text"
      },
      "cell_type": "markdown",
      "source": [
        "**c) Declare matrices:**\n",
        "1. $aMat=\\begin{bmatrix}\n",
        "                    2      & \\cdots & 2 \\\\\n",
        "                    \\vdots & \\ddots & \\vdots \\\\\n",
        "                    2      & \\cdots & 2\n",
        "                \\end{bmatrix}$,\n",
        "<br/>\n",
        "matrix $9\\times 9$ filled with 2s (use `ones` or `zeros`),\n",
        "2. $bMat=\\begin{bmatrix}\n",
        "                    1      & 0      & \\cdots &        & 0      \\\\\n",
        "                    0      & \\ddots & 0      &        & 0      \\\\\n",
        "                    \\vdots & 0      & 5      & 0      & \\vdots \\\\\n",
        "                           &        & 0      & \\ddots & 0      \\\\\n",
        "                    0      &        & \\cdots & 0      & 1\n",
        "                \\end{bmatrix}$,\n",
        "<br/>\n",
        "matrix $9\\times 9$ filled with zeros, with $\\begin{bmatrix} 1 & 2 & 3 & 4 & 5 & 4 & 3 & 2 & 1 \\end{bmatrix}$ on its diagonal (use `zeros`, `diag`),\n",
        "3. $cMat=\\begin{bmatrix}\n",
        "                    1      & 11     & \\cdots & 91     \\\\\n",
        "                    2      & 12     & \\ddots & 92     \\\\\n",
        "                    \\vdots & \\vdots & \\ddots & \\vdots \\\\\n",
        "                    10     & 20     & \\cdots & 100\n",
        "                \\end{bmatrix}$,\n",
        "<br/>\n",
        "matrix $10\\times 10$, columns of which form the vector $1:100$ (use `reshape`),\n",
        "4. $dMat=\\begin{bmatrix}\n",
        "                    NaN & NaN & NaN & NaN \\\\\n",
        "                    NaN & NaN & NaN & NaN \\\\\n",
        "                    NaN & NaN & NaN & NaN\n",
        "                \\end{bmatrix}$,\n",
        "<br/>\n",
        "matrix $3\\times 4$ filled with `NaN`s (use... `NaN`),\n",
        "5. $eMat=\\begin{bmatrix}\n",
        "                    13  & -1  & 5  \\\\\n",
        "                    -22 & 10  & -87\n",
        "                \\end{bmatrix}$,\n",
        "<br/>\n",
        "6. $fMat$ filled with random natural numbers from $[-3,3]$ (use `rand` and `floor` or `ceil`)."
      ]
    },
    {
      "metadata": {
        "id": "Bdd1oUeI33_P",
        "colab_type": "code",
        "colab": {
          "base_uri": "https://localhost:8080/",
          "height": 875
        },
        "outputId": "5436d534-f497-44b7-ffa4-be7e4c5d76bd"
      },
      "cell_type": "code",
      "source": [
        "from random import randint\n",
        "aMat = np.ones((9, 9)) * 2\n",
        "bMat = np.diag(range(1, 5) + range(5, 0, -1))\n",
        "cMat = np.transpose(np.reshape(range(1,101), (10,10))) \n",
        "dMat = np.full((3, 4), np.NaN)\n",
        "eMat = np.array([[13, -1, 5], [-22, 10, -87]]) \n",
        "fMat = np.reshape([randint(0, 3) for _ in xrange(100)], (10, 10)) \n",
        "\n",
        "print(aMat, bMat, cMat, dMat, eMat, fMat, sep=\"\\n\\n\")"
      ],
      "execution_count": 58,
      "outputs": [
        {
          "output_type": "stream",
          "text": [
            "[[2. 2. 2. 2. 2. 2. 2. 2. 2.]\n",
            " [2. 2. 2. 2. 2. 2. 2. 2. 2.]\n",
            " [2. 2. 2. 2. 2. 2. 2. 2. 2.]\n",
            " [2. 2. 2. 2. 2. 2. 2. 2. 2.]\n",
            " [2. 2. 2. 2. 2. 2. 2. 2. 2.]\n",
            " [2. 2. 2. 2. 2. 2. 2. 2. 2.]\n",
            " [2. 2. 2. 2. 2. 2. 2. 2. 2.]\n",
            " [2. 2. 2. 2. 2. 2. 2. 2. 2.]\n",
            " [2. 2. 2. 2. 2. 2. 2. 2. 2.]]\n",
            "\n",
            "[[1 0 0 0 0 0 0 0 0]\n",
            " [0 2 0 0 0 0 0 0 0]\n",
            " [0 0 3 0 0 0 0 0 0]\n",
            " [0 0 0 4 0 0 0 0 0]\n",
            " [0 0 0 0 5 0 0 0 0]\n",
            " [0 0 0 0 0 4 0 0 0]\n",
            " [0 0 0 0 0 0 3 0 0]\n",
            " [0 0 0 0 0 0 0 2 0]\n",
            " [0 0 0 0 0 0 0 0 1]]\n",
            "\n",
            "[[  1  11  21  31  41  51  61  71  81  91]\n",
            " [  2  12  22  32  42  52  62  72  82  92]\n",
            " [  3  13  23  33  43  53  63  73  83  93]\n",
            " [  4  14  24  34  44  54  64  74  84  94]\n",
            " [  5  15  25  35  45  55  65  75  85  95]\n",
            " [  6  16  26  36  46  56  66  76  86  96]\n",
            " [  7  17  27  37  47  57  67  77  87  97]\n",
            " [  8  18  28  38  48  58  68  78  88  98]\n",
            " [  9  19  29  39  49  59  69  79  89  99]\n",
            " [ 10  20  30  40  50  60  70  80  90 100]]\n",
            "\n",
            "[[nan nan nan nan]\n",
            " [nan nan nan nan]\n",
            " [nan nan nan nan]]\n",
            "\n",
            "[[ 13  -1   5]\n",
            " [-22  10 -87]]\n",
            "\n",
            "[[1 2 3 1 1 2 2 0 3 0]\n",
            " [0 3 2 3 3 3 2 3 0 1]\n",
            " [2 1 3 0 0 2 3 1 1 1]\n",
            " [0 2 2 3 3 2 3 3 3 2]\n",
            " [2 0 2 1 3 3 1 0 0 0]\n",
            " [1 3 0 1 3 0 1 3 3 0]\n",
            " [0 0 0 2 2 1 2 0 2 0]\n",
            " [3 0 0 3 2 1 3 0 3 0]\n",
            " [3 3 1 3 0 2 0 1 3 1]\n",
            " [0 3 2 3 2 2 2 0 2 1]]\n"
          ],
          "name": "stdout"
        }
      ]
    },
    {
      "metadata": {
        "id": "DqtKQi1Q33_T",
        "colab_type": "text"
      },
      "cell_type": "markdown",
      "source": [
        "** d) Declare a multiplication table ** as a $10\\times 10$ matrix `mulMat`. Use matrix/vector multiplication."
      ]
    },
    {
      "metadata": {
        "id": "OWqHq-vK33_U",
        "colab_type": "code",
        "colab": {
          "base_uri": "https://localhost:8080/",
          "height": 178
        },
        "outputId": "917dc747-8775-4ec2-caee-f43e070ea8de"
      },
      "cell_type": "code",
      "source": [
        "vec = [range(1,10)]\n",
        "mulMat = np.matmul(np.transpose(vec), vec)\n",
        "print(mulMat)"
      ],
      "execution_count": 84,
      "outputs": [
        {
          "output_type": "stream",
          "text": [
            "[[ 1  2  3  4  5  6  7  8  9]\n",
            " [ 2  4  6  8 10 12 14 16 18]\n",
            " [ 3  6  9 12 15 18 21 24 27]\n",
            " [ 4  8 12 16 20 24 28 32 36]\n",
            " [ 5 10 15 20 25 30 35 40 45]\n",
            " [ 6 12 18 24 30 36 42 48 54]\n",
            " [ 7 14 21 28 35 42 49 56 63]\n",
            " [ 8 16 24 32 40 48 56 64 72]\n",
            " [ 9 18 27 36 45 54 63 72 81]]\n"
          ],
          "name": "stdout"
        }
      ]
    },
    {
      "metadata": {
        "id": "0xIm6lT133_Y",
        "colab_type": "text"
      },
      "cell_type": "markdown",
      "source": [
        "** e) Compute elemwise using values from b).**\n",
        "For instance, the first element of $xVec[0]$ should be equal to\n",
        "\n",
        "\\begin{equation}\n",
        "1/(\\sqrt{2\\pi2.5^2}) e^{-cVec[0]^2 / (2\\cdot\\pi 2.5^2)}.\n",
        "\\end{equation}\n",
        "\n",
        "1. $xVec=1/(\\sqrt{2\\pi2.5^2}) e^{-cVec^2 / (2\\cdot\\pi 2.5^2)}$\n",
        "2. $yVec=\\sqrt{(aVec^\\intercal)^2 + bVec^2}$\n",
        "3. $zVec=\\log_{10}(1/dVec)$, using `log10`"
      ]
    },
    {
      "metadata": {
        "id": "LtH-kSU733_Z",
        "colab_type": "code",
        "colab": {
          "base_uri": "https://localhost:8080/",
          "height": 388
        },
        "outputId": "d5ca0021-e7f8-4642-a12c-3cbcf1f8b8ee"
      },
      "cell_type": "code",
      "source": [
        "from math import pi\n",
        "xVec = 1/(2*pi*2.5**2)**0.5*e**(-cVec**2/(2*pi*2.5**2))\n",
        "yVec = np.sqrt(np.linalg.matrix_power(np.transpose(aVec), 2) + np.linalg.matrix_power(bVec, 2))\n",
        "# zVec = \n",
        "print(xVec, yVec, sep=\"\\n\\n\")"
      ],
      "execution_count": 105,
      "outputs": [
        {
          "output_type": "error",
          "ename": "ValueError",
          "evalue": "ignored",
          "traceback": [
            "\u001b[0;31m\u001b[0m",
            "\u001b[0;31mValueError\u001b[0mTraceback (most recent call last)",
            "\u001b[0;32m<ipython-input-105-05624592592a>\u001b[0m in \u001b[0;36m<module>\u001b[0;34m()\u001b[0m\n\u001b[1;32m      1\u001b[0m \u001b[0;32mfrom\u001b[0m \u001b[0mmath\u001b[0m \u001b[0;32mimport\u001b[0m \u001b[0mpi\u001b[0m\u001b[0;34m\u001b[0m\u001b[0m\n\u001b[1;32m      2\u001b[0m \u001b[0mxVec\u001b[0m \u001b[0;34m=\u001b[0m \u001b[0;36m1\u001b[0m\u001b[0;34m/\u001b[0m\u001b[0;34m(\u001b[0m\u001b[0;36m2\u001b[0m\u001b[0;34m*\u001b[0m\u001b[0mpi\u001b[0m\u001b[0;34m*\u001b[0m\u001b[0;36m2.5\u001b[0m\u001b[0;34m**\u001b[0m\u001b[0;36m2\u001b[0m\u001b[0;34m)\u001b[0m\u001b[0;34m**\u001b[0m\u001b[0;36m0.5\u001b[0m\u001b[0;34m*\u001b[0m\u001b[0me\u001b[0m\u001b[0;34m**\u001b[0m\u001b[0;34m(\u001b[0m\u001b[0;34m-\u001b[0m\u001b[0mcVec\u001b[0m\u001b[0;34m**\u001b[0m\u001b[0;36m2\u001b[0m\u001b[0;34m/\u001b[0m\u001b[0;34m(\u001b[0m\u001b[0;36m2\u001b[0m\u001b[0;34m*\u001b[0m\u001b[0mpi\u001b[0m\u001b[0;34m*\u001b[0m\u001b[0;36m2.5\u001b[0m\u001b[0;34m**\u001b[0m\u001b[0;36m2\u001b[0m\u001b[0;34m)\u001b[0m\u001b[0;34m)\u001b[0m\u001b[0;34m\u001b[0m\u001b[0m\n\u001b[0;32m----> 3\u001b[0;31m \u001b[0myVec\u001b[0m \u001b[0;34m=\u001b[0m \u001b[0mnp\u001b[0m\u001b[0;34m.\u001b[0m\u001b[0msqrt\u001b[0m\u001b[0;34m(\u001b[0m\u001b[0mnp\u001b[0m\u001b[0;34m.\u001b[0m\u001b[0mlinalg\u001b[0m\u001b[0;34m.\u001b[0m\u001b[0mmatrix_power\u001b[0m\u001b[0;34m(\u001b[0m\u001b[0mnp\u001b[0m\u001b[0;34m.\u001b[0m\u001b[0mtranspose\u001b[0m\u001b[0;34m(\u001b[0m\u001b[0maVec\u001b[0m\u001b[0;34m)\u001b[0m\u001b[0;34m,\u001b[0m \u001b[0;36m2\u001b[0m\u001b[0;34m)\u001b[0m \u001b[0;34m+\u001b[0m \u001b[0mnp\u001b[0m\u001b[0;34m.\u001b[0m\u001b[0mlinalg\u001b[0m\u001b[0;34m.\u001b[0m\u001b[0mmatrix_power\u001b[0m\u001b[0;34m(\u001b[0m\u001b[0mbVec\u001b[0m\u001b[0;34m,\u001b[0m \u001b[0;36m2\u001b[0m\u001b[0;34m)\u001b[0m\u001b[0;34m)\u001b[0m\u001b[0;34m\u001b[0m\u001b[0m\n\u001b[0m\u001b[1;32m      4\u001b[0m \u001b[0;31m# zVec =\u001b[0m\u001b[0;34m\u001b[0m\u001b[0;34m\u001b[0m\u001b[0m\n\u001b[1;32m      5\u001b[0m \u001b[0;32mprint\u001b[0m\u001b[0;34m(\u001b[0m\u001b[0mxVec\u001b[0m\u001b[0;34m,\u001b[0m \u001b[0myVec\u001b[0m\u001b[0;34m,\u001b[0m \u001b[0msep\u001b[0m\u001b[0;34m=\u001b[0m\u001b[0;34m\"\\n\\n\"\u001b[0m\u001b[0;34m)\u001b[0m\u001b[0;34m\u001b[0m\u001b[0m\n",
            "\u001b[0;32m/usr/local/lib/python2.7/dist-packages/numpy/matrixlib/defmatrix.pyc\u001b[0m in \u001b[0;36mmatrix_power\u001b[0;34m(M, n)\u001b[0m\n\u001b[1;32m    137\u001b[0m     \u001b[0mM\u001b[0m \u001b[0;34m=\u001b[0m \u001b[0masanyarray\u001b[0m\u001b[0;34m(\u001b[0m\u001b[0mM\u001b[0m\u001b[0;34m)\u001b[0m\u001b[0;34m\u001b[0m\u001b[0m\n\u001b[1;32m    138\u001b[0m     \u001b[0;32mif\u001b[0m \u001b[0mM\u001b[0m\u001b[0;34m.\u001b[0m\u001b[0mndim\u001b[0m \u001b[0;34m!=\u001b[0m \u001b[0;36m2\u001b[0m \u001b[0;32mor\u001b[0m \u001b[0mM\u001b[0m\u001b[0;34m.\u001b[0m\u001b[0mshape\u001b[0m\u001b[0;34m[\u001b[0m\u001b[0;36m0\u001b[0m\u001b[0;34m]\u001b[0m \u001b[0;34m!=\u001b[0m \u001b[0mM\u001b[0m\u001b[0;34m.\u001b[0m\u001b[0mshape\u001b[0m\u001b[0;34m[\u001b[0m\u001b[0;36m1\u001b[0m\u001b[0;34m]\u001b[0m\u001b[0;34m:\u001b[0m\u001b[0;34m\u001b[0m\u001b[0m\n\u001b[0;32m--> 139\u001b[0;31m         \u001b[0;32mraise\u001b[0m \u001b[0mValueError\u001b[0m\u001b[0;34m(\u001b[0m\u001b[0;34m\"input must be a square array\"\u001b[0m\u001b[0;34m)\u001b[0m\u001b[0;34m\u001b[0m\u001b[0m\n\u001b[0m\u001b[1;32m    140\u001b[0m     \u001b[0;32mif\u001b[0m \u001b[0;32mnot\u001b[0m \u001b[0missubdtype\u001b[0m\u001b[0;34m(\u001b[0m\u001b[0mtype\u001b[0m\u001b[0;34m(\u001b[0m\u001b[0mn\u001b[0m\u001b[0;34m)\u001b[0m\u001b[0;34m,\u001b[0m \u001b[0mN\u001b[0m\u001b[0;34m.\u001b[0m\u001b[0minteger\u001b[0m\u001b[0;34m)\u001b[0m\u001b[0;34m:\u001b[0m\u001b[0;34m\u001b[0m\u001b[0m\n\u001b[1;32m    141\u001b[0m         \u001b[0;32mraise\u001b[0m \u001b[0mTypeError\u001b[0m\u001b[0;34m(\u001b[0m\u001b[0;34m\"exponent must be an integer\"\u001b[0m\u001b[0;34m)\u001b[0m\u001b[0;34m\u001b[0m\u001b[0m\n",
            "\u001b[0;31mValueError\u001b[0m: input must be a square array"
          ]
        }
      ]
    },
    {
      "metadata": {
        "id": "EBhf74F_33_d",
        "colab_type": "text"
      },
      "cell_type": "markdown",
      "source": [
        "** f) Compute with matrix/vector operations using values from c).**\n",
        "\n",
        "**NOTE:** Every multiplication (and power) in this subtask is a [matrix multiplication](https://en.wikipedia.org/wiki/Matrix_multiplication).\n",
        "1. $xMat=(aVec\\cdot bVec)aMat^2$,\n",
        "2. $yMat=bVec\\cdot aVec$\n",
        "<br/>\n",
        "(remember, that matrix multiplication is not commutative),\n",
        "4. $zMat=\\lvert cMat\\rvert (aMat\\cdot bMat)^\\intercal$, where $\\lvert A\\rvert$ denotes determinant of $A$ (use `det`)."
      ]
    },
    {
      "metadata": {
        "id": "UjdLR34u33_e",
        "colab_type": "code",
        "colab": {
          "base_uri": "https://localhost:8080/",
          "height": 624
        },
        "outputId": "da5da0a2-c839-48aa-9d1e-6b3bfb1088b1"
      },
      "cell_type": "code",
      "source": [
        "xMat = np.matmul(aVec, bVec) * np.matmul(aMat, aMat)\n",
        "yMat = np.matmul(bVec, aVec)\n",
        "zMat = np.linalg.det(cMat)*np.transpose(np.matmul(aMat, bMat))\n",
        "print(xMat, yMat, zMat, sep=\"\\n\\n\")"
      ],
      "execution_count": 91,
      "outputs": [
        {
          "output_type": "stream",
          "text": [
            "[[184050.3384 184050.3384 184050.3384 184050.3384 184050.3384 184050.3384\n",
            "  184050.3384 184050.3384 184050.3384]\n",
            " [184050.3384 184050.3384 184050.3384 184050.3384 184050.3384 184050.3384\n",
            "  184050.3384 184050.3384 184050.3384]\n",
            " [184050.3384 184050.3384 184050.3384 184050.3384 184050.3384 184050.3384\n",
            "  184050.3384 184050.3384 184050.3384]\n",
            " [184050.3384 184050.3384 184050.3384 184050.3384 184050.3384 184050.3384\n",
            "  184050.3384 184050.3384 184050.3384]\n",
            " [184050.3384 184050.3384 184050.3384 184050.3384 184050.3384 184050.3384\n",
            "  184050.3384 184050.3384 184050.3384]\n",
            " [184050.3384 184050.3384 184050.3384 184050.3384 184050.3384 184050.3384\n",
            "  184050.3384 184050.3384 184050.3384]\n",
            " [184050.3384 184050.3384 184050.3384 184050.3384 184050.3384 184050.3384\n",
            "  184050.3384 184050.3384 184050.3384]\n",
            " [184050.3384 184050.3384 184050.3384 184050.3384 184050.3384 184050.3384\n",
            "  184050.3384 184050.3384 184050.3384]\n",
            " [184050.3384 184050.3384 184050.3384 184050.3384 184050.3384 184050.3384\n",
            "  184050.3384 184050.3384 184050.3384]]\n",
            "\n",
            "[[   8.5094   40.65     24.39     70.46  ]\n",
            " [  25.12    120.       72.      208.    ]\n",
            " [  87.92    420.      252.      728.    ]\n",
            " [ 571.48   2730.     1638.     4732.    ]]\n",
            "\n",
            "[[0. 0. 0. 0. 0. 0. 0. 0. 0.]\n",
            " [0. 0. 0. 0. 0. 0. 0. 0. 0.]\n",
            " [0. 0. 0. 0. 0. 0. 0. 0. 0.]\n",
            " [0. 0. 0. 0. 0. 0. 0. 0. 0.]\n",
            " [0. 0. 0. 0. 0. 0. 0. 0. 0.]\n",
            " [0. 0. 0. 0. 0. 0. 0. 0. 0.]\n",
            " [0. 0. 0. 0. 0. 0. 0. 0. 0.]\n",
            " [0. 0. 0. 0. 0. 0. 0. 0. 0.]\n",
            " [0. 0. 0. 0. 0. 0. 0. 0. 0.]]\n"
          ],
          "name": "stdout"
        },
        {
          "output_type": "execute_result",
          "data": {
            "text/plain": [
              "array([   8.5094,  120.    ,  252.    , 4732.    ])"
            ]
          },
          "metadata": {
            "tags": []
          },
          "execution_count": 91
        }
      ]
    },
    {
      "metadata": {
        "id": "QJ3xTXgV33_i",
        "colab_type": "text"
      },
      "cell_type": "markdown",
      "source": [
        "** g) Declare `ismagic(A)` function ** which checks if matrix $A$ is a [magic square](https://en.wikipedia.org/wiki/Magic_square) and returns a boolean."
      ]
    },
    {
      "metadata": {
        "id": "uCNJUx_G33_j",
        "colab_type": "code",
        "colab": {
          "base_uri": "https://localhost:8080/",
          "height": 35
        },
        "outputId": "4e1d0962-21d9-44e2-a754-6b9522383ed0"
      },
      "cell_type": "code",
      "source": [
        "def ismagic(A):\n",
        "    A = np.array(A) if type(A) is list else A\n",
        "    rotA = np.rot90(A)\n",
        "    gen = (sum(line) for line in \n",
        "           A.tolist() + [np.diagonal(A), np.diagonal(rotA)] + rotA.tolist())\n",
        "    return len(set(gen)) == 1\n",
        "\n",
        "ismagic([\n",
        "    [4, 9, 2],\n",
        "    [3, 5, 7],\n",
        "    [8, 1, 6]\n",
        "])"
      ],
      "execution_count": 104,
      "outputs": [
        {
          "output_type": "execute_result",
          "data": {
            "text/plain": [
              "True"
            ]
          },
          "metadata": {
            "tags": []
          },
          "execution_count": 104
        }
      ]
    },
    {
      "metadata": {
        "id": "Es80_WJM33_n",
        "colab_type": "text"
      },
      "cell_type": "markdown",
      "source": [
        "### k-Nearest Neighbors\n",
        "\n",
        "The following excerpt of code loads the data describing iris flowers\n",
        "and shows relations between their length and petal width for three\n",
        "species (namely: setosa, versicolor, virginica)."
      ]
    },
    {
      "metadata": {
        "id": "hOvm2SEE33_q",
        "colab_type": "code",
        "colab": {}
      },
      "cell_type": "code",
      "source": [
        "# sklearn is a large collection of machine learning algorithms\n",
        "# here we’ll use it only for the built-in iris dataset\n",
        "from sklearn import datasets\n",
        "\n",
        "iris = datasets.load_iris()\n",
        "\n",
        "print('Features: ', iris.feature_names)\n",
        "print('Targets: ', iris.target_names)\n",
        "\n",
        "petal_length = iris.data[:, iris.feature_names.index('petal length (cm)')]\n",
        "petal_width = iris.data[:, iris.feature_names.index('petal width (cm)')]\n",
        "\n",
        "for target in set(iris.target):\n",
        "    example_ids = target == iris.target\n",
        "    plt.scatter(petal_length[example_ids], petal_width[example_ids],\n",
        "                label=iris.target_names[target], color='bgr'[target],\n",
        "                marker='x', alpha=0.7)\n",
        "unknown = np.array([\n",
        "    [1.5, 0.3],\n",
        "    [4.5, 1.2],\n",
        "    [5.5, 2.3],\n",
        "    [5.1, 1.7]\n",
        "])\n",
        "plt.scatter(unknown[:, 0], unknown[:, 1], marker='v',\n",
        "            color='gray', s=50, label='??')\n",
        "plt.xlabel('petal length (cm)')\n",
        "plt.ylabel('petal width (cm)')\n",
        "plt.grid(True)\n",
        "plt.legend(loc='upper left');"
      ],
      "execution_count": 0,
      "outputs": []
    },
    {
      "metadata": {
        "id": "s2khewKZ33_w",
        "colab_type": "text"
      },
      "cell_type": "markdown",
      "source": [
        "Based on these two features, it is easy to distinguish iris setosa from the two remaining species. Yet iris versicolor and virginica remain mixed together. \n",
        "\n",
        "Looking closely at the plot, we might estimate the species of the selected unknown irises (gray triangles). For three of them the answer seems obvious – they belong in uniformly-colored areas covered by one species only. Yet unknown iris flower in (5.1, 1.7) is troublesome – it lays on the boundary of versicolor and virginica clusters. We can assume, that its species is the one of the closest one to it, coming from the training set (and so having a label). \n",
        "\n",
        "K-Nearest Neighbors method (http://en.wikipedia.org/wiki/K-nearest_neighbors_algorithm) solves the classification problem, i.e. sets class labels (species in case of irises) of a previously unseen sample by choosing the most common class among the top k neighbors of the sample in question (for instance according to the Euclidean distance). Thus, the k-Nearest Neighbors algorithm works as follows. For each unlabeled sample x:\n",
        "1. Find k nearest neighbors among the labeled samples.\n",
        "2. Set the most common label among them as label of x."
      ]
    },
    {
      "metadata": {
        "id": "8-G-sMUw33_x",
        "colab_type": "text"
      },
      "cell_type": "markdown",
      "source": [
        "#### Problem 2 [2p]\n",
        "\n",
        "1.  **[1p]** Load the iris data (in Python it’s built-in into machine learning libraries, use sklearn.datasets.load_iris), the data is also available on-line at https://archive.ics.uci.edu/ml/datasets/Iris\n",
        "\n",
        "2.  **[1p]** Irises are described with 4 attributes: petal and sepal widths and lengths. We often plot such data as matrices depicting relationships between pairs of attributes (the diagonal of which holds an ordinary histogram). Write code making a plot like the one below. Please pay attention to the details: make a proper legend and correctly label the axes.\n",
        "\n",
        "<img src=\"https://github.com/janchorowski/nn_assignments/blob/nn18/assignment1/iris4x4.png?raw=1\"/>"
      ]
    },
    {
      "metadata": {
        "id": "F6sG0bxf33_y",
        "colab_type": "text"
      },
      "cell_type": "markdown",
      "source": [
        "#### Problem 3 [2p]\n",
        "\n",
        "Implement the k-Nearest Neighbors algorithm. Try to\n",
        "take advantage of matrix calculus rather than using for loops.\n",
        "\n",
        "**Tip:** What is computed by \\begin{equation} \\sqrt{(X - Y)^T (X - Y)} \\end{equation} when both X and Y are vectors?\n",
        "\n",
        "**Tip:** Try to use broadcasting (NumPy: http://docs.scipy.org/doc/numpy/user/basics.broadcasting.html) and built-ins sort, numpy.sort, numpy.argsort (sorting), scipy.stats.mode (choosing the most common element of the set)."
      ]
    },
    {
      "metadata": {
        "id": "1iZtHs5A33_z",
        "colab_type": "text"
      },
      "cell_type": "markdown",
      "source": [
        "#### Problem 4 [2p]\n",
        "Consider the following experiment:\n",
        "1. We scramble the data and split it into two parts - training set (66.6% of all samples) and test set (33.4%).\n",
        "2. Based on the training set, we use the k-NN algorithm to predict the labels on the test set.\n",
        "3. We then check the number of errors and write it down.\n",
        "\n",
        "Do this 500 times for k ∈ {1, 3, 5, ..., 19}. Plot a function of the average number of errors\n",
        "as the function of k. It should be similar to the one below.\n",
        "\n",
        "<img src=\"https://github.com/janchorowski/nn_assignments/blob/nn18/assignment1/knn.png?raw=1\"/>"
      ]
    },
    {
      "metadata": {
        "id": "A86GnZpa33_0",
        "colab_type": "text"
      },
      "cell_type": "markdown",
      "source": [
        "#### Problem 5 [2p] \n",
        "\n",
        "Apply the K-Nearest Neighbors (K-NN) algorithm to the MNIST and CIFAR10 datasets. \n",
        "\n",
        "The MNIST (http://yann.lecun.com/exdb/mnist/) dataset consists of normalized (centered and stretched) scans of hand-written digits. Specifically, each element of the dataset is a 28 × 28 grayscale image, thus having 764 8-bit pixels. \n",
        "\n",
        "The CIFAR10 (http://www.cs.toronto.edu/~kriz/cifar.html) dataset consists of small, 32 by 32 pixels, RGB images belonging to 10 categories.\n",
        "\n",
        "1. **[1p]** Download and load the MNIST and CIFAR10 datasets. For both datasets, display a few objects from each of the classes, paying attention to aesthetics and clarity of your presentation. **Note:** You already downloaded the datasets in \"Setup\" section. Please use the code below to get started.\n",
        "\n",
        "2. **[2p]** Apply a k-NN classifier to the MNIST and CIFAR10 datasets. First, divide the training set into two parts, which we will call training and validation. On MNIST use the first 50000 samples for training and the last 10000 for validation. On CIFAR10, use 40000 to train and 10000 for validation. Then find the optimal number of neighbors by assessing the accuracy on the validation set. You do not need to repeat this experiment multiple times. Finally, compute the accuracy on the test set obtained with the best previously chosen number of neighbors. On MNIST you should get about 3% errors, while on CIFAR10 you should get about 70% errors. Why CIFAR10 is harder than MNIST? Pick a few mislabeled samples from the test dataset and plot them along with the correct ones. **Note:**\n",
        "  * MNIST and CIFAR10 are much larger than the Iris dataset. A good implementation may need a few minutes depending on your runtime type. Please optimize your algorithm:\n",
        "  * Compute the distances only once, then test for different values of k.\n",
        "  * Use vectorized expressions to compute the distance. It is possible to compute all distances between the training and testing points in one expression. Hint: think about the vectorized expression \\begin{equation}(X - Y)^T (X - Y)\\end{equation}.\n",
        "  * You can use single precision numbers in computation.\n",
        "  * If your code is taking a long time to execute, please save its results before the lab session.\n",
        "\n",
        "**Note:** in NumPy, matrices have its own data type (dtype), which is retained during\n",
        "calculations. Please pay attention to it. I particular, do not subtract values of data types not\n",
        "having the sign bit, do not divide integers, etc. Results of such operations will not be\n",
        "automatically casted to types having the required precision."
      ]
    },
    {
      "metadata": {
        "id": "3AvAeiDN33_1",
        "colab_type": "code",
        "colab": {}
      },
      "cell_type": "code",
      "source": [
        "with np.load('mnist.npz') as data:\n",
        "    mnist_full_train_data_uint8 = data['train_data']\n",
        "    mnist_full_train_labels_int64 = data['train_labels']\n",
        "    mnist_test_data_uint8 = data['test_data']\n",
        "    mnist_test_labels_int64 = data['test_labels']\n",
        "        \n",
        "# Split train data into train and validation sets\n",
        "mnist_train_data_uint8 = mnist_full_train_data_uint8[:50000]\n",
        "mnist_train_labels_int64 = mnist_full_train_labels_int64[:50000]\n",
        "mnist_valid_data_uint8 = mnist_full_train_data_uint8[50000:]\n",
        "mnist_valid_labels_int64 = mnist_full_train_labels_int64[50000:]"
      ],
      "execution_count": 0,
      "outputs": []
    },
    {
      "metadata": {
        "id": "aenFc3L633_4",
        "colab_type": "code",
        "colab": {}
      },
      "cell_type": "code",
      "source": [
        "plot_mat(mnist_train_data_uint8[:20, None], cmap='gray')"
      ],
      "execution_count": 0,
      "outputs": []
    },
    {
      "metadata": {
        "id": "Wwii9AQN33_8",
        "colab_type": "code",
        "colab": {}
      },
      "cell_type": "code",
      "source": [
        "with np.load('cifar.npz') as data:\n",
        "    cifar_full_train_data_uint8 = data['train_data']\n",
        "    cifar_full_train_labels_int64 = data['train_labels']\n",
        "    cifar_test_data_uint8 = data['test_data']\n",
        "    cifar_test_labels_int64 = data['test_labels']"
      ],
      "execution_count": 0,
      "outputs": []
    },
    {
      "metadata": {
        "id": "Jut2P5Rj34AD",
        "colab_type": "code",
        "colab": {}
      },
      "cell_type": "code",
      "source": [
        "#\n",
        "# TODO: plot an example of each class on MNIST and on CIFAR-10\n",
        "#"
      ],
      "execution_count": 0,
      "outputs": []
    },
    {
      "metadata": {
        "id": "-cREkeVz34AH",
        "colab_type": "code",
        "colab": {}
      },
      "cell_type": "code",
      "source": [
        "from scipy.stats import mode\n",
        "\n",
        "\n",
        "def KNN(train_X, train_Y, test_X, test_Y, ks, batch_size=200):\n",
        "    \"\"\"\n",
        "    Compute error rate for various \n",
        "    \"\"\"\n",
        "    errs = np.zeros((len(ks),))\n",
        "    for i in xrange(0, test_Y.shape[0], batch_size):\n",
        "        batch_X = test_X[i:i + batch_size]\n",
        "        batch_Y = test_Y[i:i + batch_size]\n",
        "        print(\"Examples %d:%d Computing distances... \" %\n",
        "              (i, i + batch_size), end='')\n",
        "\n",
        "        #\n",
        "        # TODO: fill in an efficient distance matrix computation\n",
        "        #\n",
        "        dists = TODO\n",
        "\n",
        "        print(\"Sorting... \", end='')\n",
        "        closest = np.argsort(dists, 0)\n",
        "\n",
        "        print(\"Computing errors...\")\n",
        "        targets = train_Y[closest]\n",
        "\n",
        "        for ki, k in enumerate(ks):\n",
        "            predictions, unused_counts = mode(targets[:k, :], axis=0)\n",
        "            predictions = predictions.ravel()\n",
        "            #\n",
        "            # TODO: fill in error count computation\n",
        "            #\n",
        "            errs[ki] += TODO\n",
        "\n",
        "    errs /= test_Y.shape\n",
        "    return np.vstack((ks, errs))"
      ],
      "execution_count": 0,
      "outputs": []
    },
    {
      "metadata": {
        "id": "FTuX5ql334AO",
        "colab_type": "code",
        "colab": {}
      },
      "cell_type": "code",
      "source": [
        "# Now find the best k on the validation set\n",
        "\n",
        "mnist_validation_errs = KNN(\n",
        "    mnist_train_data_uint8, mnist_train_labels_int64,\n",
        "    mnist_valid_data_uint8, mnist_valid_labels_int64,\n",
        "    [1, 3, 5, 7, 9])\n",
        "\n",
        "plot(mnist_validation_errs[0, :], mnist_validation_errs[1, :])"
      ],
      "execution_count": 0,
      "outputs": []
    },
    {
      "metadata": {
        "id": "l5j4eGVN34AR",
        "colab_type": "code",
        "colab": {}
      },
      "cell_type": "code",
      "source": [
        "# Now use the best k to compute the test error\n",
        "\n",
        "best_K = TODO\n",
        "\n",
        "mnist_full_train_data_uint8 = mnist_train_dataset.train_data.numpy()\n",
        "mnist_full_train_labels_int64 = mnist_train_dataset.train_labels.numpy()\n",
        "\n",
        "mnist_test_errs = KNN(mnist_full_train_data_uint8, \n",
        "                      mnist_full_train_labels_int64,\n",
        "                      mnist_test_data_uint8, \n",
        "                      mnist_test_labels_int64, [best_K])\n",
        "print(\"When k=%d the test error rate is %.1f%%\" %\n",
        "      (mnist_test_errs[0, 0], mnist_test_errs[1, 0] * 100.0))"
      ],
      "execution_count": 0,
      "outputs": []
    },
    {
      "metadata": {
        "id": "g88neUhM34AU",
        "colab_type": "code",
        "colab": {}
      },
      "cell_type": "code",
      "source": [
        "#\n",
        "# Now repeat the k-NN training for CIFAR10\n",
        "#"
      ],
      "execution_count": 0,
      "outputs": []
    },
    {
      "metadata": {
        "id": "1qq8XLOt34AX",
        "colab_type": "text"
      },
      "cell_type": "markdown",
      "source": [
        "### Locality sensitive hashing\n",
        "\n",
        "Problem 5 was about speeding up the inference using loops implicitly present in matrix multiplication instead of explicit loops in Python. In this problem, we will explore a strategy to truly reduce the total number of computations required to find nearest neighbors without sacrificing too much accuracy.\n",
        "\n",
        "To speed up nearest neighbor search we will employ *Locality Sensitive Hashing (LSH)* functions. For a given distance metric, the locality sensitive hash should put items that are similar into the same bucket. Notice that this is essentially a design choice opposite to traditional cryptographic hash functions that should amplify the difference of similar inputs (typically we want that small perturbations of data result in large changes to the hash value).\n",
        "\n",
        "One of the simplest implementations of LSH approximates the cosine distance. Let $x\\in \\mathbb{R}^N$ and $y\\in \\mathbb{R}^N$ be two vectors. Their cosine distance is defined as:\n",
        "\n",
        "\\begin{equation}\n",
        "    d_\\text{cos}(x,y) = \\frac{x \\cdot y}{\\|x\\| \\|y\\|} = \\cos\\left(\\theta(x,y)\\right),\n",
        "\\end{equation}\n",
        "where $\\theta(x,y)$ is the unsigned angle between $x$ and $y$.\n",
        "\n",
        "We will construct a family $H$ of hash functions that are an LSH for angle distances (an approximation to cosine distance). Assume $p\\in \\mathbb{R}^N$ is a random vector (components are sampled from the normal distribution) of length 1. Then define the hash function $h(x) = \\text{sgn}(x\\cdot p)$, where $\\text{sgn()}$ is the sign function. It can be proven that:\n",
        "\n",
        "\\begin{equation}\n",
        "    p_{h\\in H}[h(x)=h(y)] = 1 - \\frac{\\theta(x,y)}{\\pi}.\n",
        "\\end{equation}\n",
        "\n",
        "The equation means that the probability of a hash collision grows as the the angle between two vectors gets smaller. Therefore, vectors that are close according to the cosine distance will be put with high probability into the same bin (we use the fact that for small $\\theta$ we can approximate $\\cos(\\theta) = 1 - \\theta/\\pi$.\n",
        "\n",
        "We will say that a family of randomly chosen hash functions $H$ is $(d_1, d_2, p_1, p_2)$-sensitive with respect to a distance metric $d$ if for any $x$ and $y$:\n",
        "1. If $d(x,y) \\leq d_1$ then $p_{h\\in H}[h(x)=h(y)] \\geq p_1$.\n",
        "2. If $d(x,y) \\geq d_2$ then $p_{h\\in H}[h(x)=h(y)] \\leq p_2$.\n",
        "\n",
        "For example, our family of randomly chosen hyperplanes is $(d_1, d_2, (1-d_1)/\\pi, (1-d_2)/\\pi)$-sensitive.\n",
        "\n",
        "Ideally, vectors should be placed into the same bin with a high probability if their distance is smaller than a threshold, and with a low probability if their distance is larger that the threshold. By combining hashing functions we can get closer to this ideal sensitivity.\n",
        "\n",
        "Given a family of hash functions $H$ with sensitivity $(d_1, d_3, p_1, p_2)$ we can construct a new family $H'$ by combining $r$ functions from $H$:\n",
        "1. AND: let $h=[h_1, h_2, \\ldots, h_r] \\in H'$ and $h(x)=h(y)$ if and only if $\\forall_i h_i(x)=h_i(y)$. Then $H'$ is $(d_1, d_2, (p_1)^r, (p_2)^r)$-sensitive.\n",
        "2. OR: let $h=[h_1, h_2, \\ldots, h_r] \\in H'$ and $h(x)=h(y)$ if and only if $\\exists_i h_i(x)=h_i(y)$. Then $H'$ is $(d_1, d_2, 1-(1-p_1)^r, 1-(1-p_2)^r)$-sensitive.\n",
        "\n",
        "AND makes all probabilities shrink, but properly choosing $r$ we can make the lower probability approach 0 while the higher does not. Conversely, OR makes all probabilities grow, we can make the upper probability approach 1 while the lower does not."
      ]
    },
    {
      "metadata": {
        "id": "OutHmcfp8zLo",
        "colab_type": "text"
      },
      "cell_type": "markdown",
      "source": [
        "#### Problem 6 [2-4p bonus] \n",
        "\n",
        "1. **[1bp]** **Note:** you can show sketches of proofs for this assignment.\n",
        "    1. Show that angle between vectors is a metric (https://en.wikipedia.org/wiki/Metric_(mathematics)).\n",
        "    \n",
        "    2. Show that $p_{h\\in H}[h(x)=h(y)] = 1 - \\frac{\\theta(x,y)}{\\pi}$ for $h$ computed using a randomly chosen hyperplane.\n",
        "\n",
        "    3. Show the properties of either AND or OR boosting of LSH.\n",
        "\n",
        "3. **[1-3bp]** Reimplement k-Nearest Neighbors for MNIST classification using the cosine distance instead of the Euclidean distance. Choose a sensible value of $k$. Use Locality Sensitive Hashing to achieve an error rate no greater than $150\\%$ of the original error rate with at least a $90\\%$ speedup (i.e., by considering on average at most 5000 training samples per query image). For a few settings plot the speedup-vs-accuracy relation.\n",
        "\n",
        "  **Note:** points will be awarded based on ingenuity of your solution. Feel free to explore your own ideas!\n"
      ]
    }
  ]
}